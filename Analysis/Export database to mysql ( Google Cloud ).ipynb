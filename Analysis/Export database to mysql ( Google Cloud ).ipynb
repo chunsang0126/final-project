{
 "cells": [
  {
   "cell_type": "code",
   "execution_count": 4,
   "metadata": {},
   "outputs": [],
   "source": [
    "import pandas as pd\n",
    "import os\n",
    "\n",
    "os.chdir('/Users/johnngai/Desktop/final_project/ATP_matches_past_10_years_record/')"
   ]
  },
  {
   "cell_type": "code",
   "execution_count": 194,
   "metadata": {},
   "outputs": [],
   "source": [
    "# Read the cleaned csv\n",
    "data=pd.read_csv('grand_slam_database.csv')"
   ]
  },
  {
   "cell_type": "code",
   "execution_count": 195,
   "metadata": {},
   "outputs": [],
   "source": [
    "# Drop 'Unnamed: 0'\n",
    "data.drop(columns=['Unnamed: 0'],inplace=True)"
   ]
  },
  {
   "cell_type": "code",
   "execution_count": 196,
   "metadata": {},
   "outputs": [],
   "source": [
    "# Locate the tournament info columns\n",
    "tourney=data.iloc[:,:5]"
   ]
  },
  {
   "cell_type": "code",
   "execution_count": 197,
   "metadata": {},
   "outputs": [],
   "source": [
    "# Split the tournament info from main dataframe\n",
    "\n",
    "tournament=tourney['tourney_name'].unique()"
   ]
  },
  {
   "cell_type": "code",
   "execution_count": 198,
   "metadata": {},
   "outputs": [
    {
     "data": {
      "text/plain": [
       "array(['Australian Open', 'Roland Garros', 'Wimbledon', 'US Open'],\n",
       "      dtype=object)"
      ]
     },
     "execution_count": 198,
     "metadata": {},
     "output_type": "execute_result"
    }
   ],
   "source": [
    "tournament"
   ]
  },
  {
   "cell_type": "code",
   "execution_count": 199,
   "metadata": {},
   "outputs": [],
   "source": [
    "# Locate the matches info columns\n",
    "match=data.iloc[:,5:]"
   ]
  },
  {
   "cell_type": "code",
   "execution_count": 200,
   "metadata": {},
   "outputs": [],
   "source": [
    "# Create function to assign tournament name\n",
    "def assign_tournament(x):\n",
    "    if x==tournament[0]:\n",
    "        x='A'\n",
    "    elif x==tournament[1]:\n",
    "        x='R'\n",
    "    elif x==tournament[2]:\n",
    "        x='W'\n",
    "    elif x==tournament[3]:\n",
    "        x='U'\n",
    "    return x"
   ]
  },
  {
   "cell_type": "code",
   "execution_count": 201,
   "metadata": {},
   "outputs": [],
   "source": [
    "# Apply it to the main dataframe\n",
    "data['id_1']=data['tourney_name'].apply(assign_tournament)"
   ]
  },
  {
   "cell_type": "code",
   "execution_count": 202,
   "metadata": {},
   "outputs": [],
   "source": [
    "# Create function to assign tournament year\n",
    "def assign_year(x):\n",
    "    return x.split('-')[0]"
   ]
  },
  {
   "cell_type": "code",
   "execution_count": 203,
   "metadata": {},
   "outputs": [],
   "source": [
    "# Apply it to the main dataframe\n",
    "data['id_2']=data['tourney_id'].apply(assign_year)"
   ]
  },
  {
   "cell_type": "code",
   "execution_count": 204,
   "metadata": {},
   "outputs": [],
   "source": [
    "# Create a column combining tournament name and tournament year and to be used as the key for primary/foreign keys in Google Cloud database\n",
    "id=pd.Series(data['id_1']+'_'+data['id_2'])"
   ]
  },
  {
   "cell_type": "code",
   "execution_count": 210,
   "metadata": {},
   "outputs": [],
   "source": [
    "# Create tournament table for database\n",
    "tourney_table=pd.concat([id,tourney],axis=1).rename(columns={0:'id'})"
   ]
  },
  {
   "cell_type": "code",
   "execution_count": 211,
   "metadata": {},
   "outputs": [],
   "source": [
    "tourney_table=tourney_table.groupby(['id','tourney_name','surface','tourney_level','tourney_date']).count().reset_index().drop(['tourney_id'],axis=1)"
   ]
  },
  {
   "cell_type": "code",
   "execution_count": 212,
   "metadata": {},
   "outputs": [
    {
     "data": {
      "text/html": [
       "<div>\n",
       "<style scoped>\n",
       "    .dataframe tbody tr th:only-of-type {\n",
       "        vertical-align: middle;\n",
       "    }\n",
       "\n",
       "    .dataframe tbody tr th {\n",
       "        vertical-align: top;\n",
       "    }\n",
       "\n",
       "    .dataframe thead th {\n",
       "        text-align: right;\n",
       "    }\n",
       "</style>\n",
       "<table border=\"1\" class=\"dataframe\">\n",
       "  <thead>\n",
       "    <tr style=\"text-align: right;\">\n",
       "      <th></th>\n",
       "      <th>id</th>\n",
       "      <th>tourney_name</th>\n",
       "      <th>surface</th>\n",
       "      <th>tourney_level</th>\n",
       "      <th>tourney_date</th>\n",
       "    </tr>\n",
       "  </thead>\n",
       "  <tbody>\n",
       "    <tr>\n",
       "      <th>0</th>\n",
       "      <td>A_2008</td>\n",
       "      <td>Australian Open</td>\n",
       "      <td>Hard</td>\n",
       "      <td>G</td>\n",
       "      <td>2008-01-14</td>\n",
       "    </tr>\n",
       "    <tr>\n",
       "      <th>1</th>\n",
       "      <td>A_2009</td>\n",
       "      <td>Australian Open</td>\n",
       "      <td>Hard</td>\n",
       "      <td>G</td>\n",
       "      <td>2009-01-19</td>\n",
       "    </tr>\n",
       "    <tr>\n",
       "      <th>2</th>\n",
       "      <td>A_2010</td>\n",
       "      <td>Australian Open</td>\n",
       "      <td>Hard</td>\n",
       "      <td>G</td>\n",
       "      <td>2010-01-18</td>\n",
       "    </tr>\n",
       "    <tr>\n",
       "      <th>3</th>\n",
       "      <td>A_2011</td>\n",
       "      <td>Australian Open</td>\n",
       "      <td>Hard</td>\n",
       "      <td>G</td>\n",
       "      <td>2011-01-17</td>\n",
       "    </tr>\n",
       "    <tr>\n",
       "      <th>4</th>\n",
       "      <td>A_2012</td>\n",
       "      <td>Australian Open</td>\n",
       "      <td>Hard</td>\n",
       "      <td>G</td>\n",
       "      <td>2012-01-16</td>\n",
       "    </tr>\n",
       "  </tbody>\n",
       "</table>\n",
       "</div>"
      ],
      "text/plain": [
       "       id     tourney_name surface tourney_level tourney_date\n",
       "0  A_2008  Australian Open    Hard             G   2008-01-14\n",
       "1  A_2009  Australian Open    Hard             G   2009-01-19\n",
       "2  A_2010  Australian Open    Hard             G   2010-01-18\n",
       "3  A_2011  Australian Open    Hard             G   2011-01-17\n",
       "4  A_2012  Australian Open    Hard             G   2012-01-16"
      ]
     },
     "execution_count": 212,
     "metadata": {},
     "output_type": "execute_result"
    }
   ],
   "source": [
    "tourney_table.head()"
   ]
  },
  {
   "cell_type": "code",
   "execution_count": 214,
   "metadata": {},
   "outputs": [],
   "source": [
    "# Create match table for database\n",
    "match_table=pd.concat([id,match],axis=1).rename(columns={0:'id'})"
   ]
  },
  {
   "cell_type": "code",
   "execution_count": 228,
   "metadata": {},
   "outputs": [
    {
     "data": {
      "text/html": [
       "<div>\n",
       "<style scoped>\n",
       "    .dataframe tbody tr th:only-of-type {\n",
       "        vertical-align: middle;\n",
       "    }\n",
       "\n",
       "    .dataframe tbody tr th {\n",
       "        vertical-align: top;\n",
       "    }\n",
       "\n",
       "    .dataframe thead th {\n",
       "        text-align: right;\n",
       "    }\n",
       "</style>\n",
       "<table border=\"1\" class=\"dataframe\">\n",
       "  <thead>\n",
       "    <tr style=\"text-align: right;\">\n",
       "      <th></th>\n",
       "      <th>id</th>\n",
       "      <th>winner_name</th>\n",
       "      <th>winner_hand</th>\n",
       "      <th>winner_ht</th>\n",
       "      <th>winner_ioc</th>\n",
       "      <th>winner_rank</th>\n",
       "      <th>loser_name</th>\n",
       "      <th>loser_hand</th>\n",
       "      <th>loser_ht</th>\n",
       "      <th>loser_ioc</th>\n",
       "      <th>...</th>\n",
       "      <th>l_1stWon</th>\n",
       "      <th>l_2ndWon</th>\n",
       "      <th>l_SvGms</th>\n",
       "      <th>l_bpSaved</th>\n",
       "      <th>l_bpFaced</th>\n",
       "      <th>1st_set</th>\n",
       "      <th>2nd_set</th>\n",
       "      <th>3rd_set</th>\n",
       "      <th>4th_set</th>\n",
       "      <th>5th_set</th>\n",
       "    </tr>\n",
       "  </thead>\n",
       "  <tbody>\n",
       "    <tr>\n",
       "      <th>0</th>\n",
       "      <td>A_2018</td>\n",
       "      <td>Rafael Nadal</td>\n",
       "      <td>L</td>\n",
       "      <td>185</td>\n",
       "      <td>ESP</td>\n",
       "      <td>1</td>\n",
       "      <td>Victor Estrella</td>\n",
       "      <td>R</td>\n",
       "      <td>173</td>\n",
       "      <td>DOM</td>\n",
       "      <td>...</td>\n",
       "      <td>19</td>\n",
       "      <td>5</td>\n",
       "      <td>10</td>\n",
       "      <td>4</td>\n",
       "      <td>12</td>\n",
       "      <td>6-1</td>\n",
       "      <td>6-1</td>\n",
       "      <td>6-1</td>\n",
       "      <td>NaN</td>\n",
       "      <td>NaN</td>\n",
       "    </tr>\n",
       "    <tr>\n",
       "      <th>1</th>\n",
       "      <td>A_2018</td>\n",
       "      <td>Damir Dzumhur</td>\n",
       "      <td>R</td>\n",
       "      <td>172</td>\n",
       "      <td>BIH</td>\n",
       "      <td>30</td>\n",
       "      <td>Paolo Lorenzi</td>\n",
       "      <td>R</td>\n",
       "      <td>183</td>\n",
       "      <td>ITA</td>\n",
       "      <td>...</td>\n",
       "      <td>68</td>\n",
       "      <td>41</td>\n",
       "      <td>24</td>\n",
       "      <td>8</td>\n",
       "      <td>13</td>\n",
       "      <td>3-6</td>\n",
       "      <td>2-6</td>\n",
       "      <td>7-6(5)</td>\n",
       "      <td>6-2</td>\n",
       "      <td>6-4</td>\n",
       "    </tr>\n",
       "    <tr>\n",
       "      <th>2</th>\n",
       "      <td>A_2018</td>\n",
       "      <td>Diego Sebastian Schwartzman</td>\n",
       "      <td>R</td>\n",
       "      <td>170</td>\n",
       "      <td>ARG</td>\n",
       "      <td>26</td>\n",
       "      <td>Dusan Lajovic</td>\n",
       "      <td>R</td>\n",
       "      <td>180</td>\n",
       "      <td>SRB</td>\n",
       "      <td>...</td>\n",
       "      <td>78</td>\n",
       "      <td>24</td>\n",
       "      <td>29</td>\n",
       "      <td>13</td>\n",
       "      <td>24</td>\n",
       "      <td>2-6</td>\n",
       "      <td>6-3</td>\n",
       "      <td>5-7</td>\n",
       "      <td>6-4</td>\n",
       "      <td>11-9</td>\n",
       "    </tr>\n",
       "    <tr>\n",
       "      <th>3</th>\n",
       "      <td>A_2018</td>\n",
       "      <td>Alexandr Dolgopolov</td>\n",
       "      <td>R</td>\n",
       "      <td>180</td>\n",
       "      <td>UKR</td>\n",
       "      <td>37</td>\n",
       "      <td>Andreas Haider Maurer</td>\n",
       "      <td>R</td>\n",
       "      <td>190</td>\n",
       "      <td>AUT</td>\n",
       "      <td>...</td>\n",
       "      <td>40</td>\n",
       "      <td>17</td>\n",
       "      <td>16</td>\n",
       "      <td>9</td>\n",
       "      <td>16</td>\n",
       "      <td>7-6(3)</td>\n",
       "      <td>6-3</td>\n",
       "      <td>6-4</td>\n",
       "      <td>NaN</td>\n",
       "      <td>NaN</td>\n",
       "    </tr>\n",
       "    <tr>\n",
       "      <th>4</th>\n",
       "      <td>A_2018</td>\n",
       "      <td>Matthew Ebden</td>\n",
       "      <td>R</td>\n",
       "      <td>188</td>\n",
       "      <td>AUS</td>\n",
       "      <td>78</td>\n",
       "      <td>John Isner</td>\n",
       "      <td>R</td>\n",
       "      <td>206</td>\n",
       "      <td>USA</td>\n",
       "      <td>...</td>\n",
       "      <td>48</td>\n",
       "      <td>20</td>\n",
       "      <td>19</td>\n",
       "      <td>0</td>\n",
       "      <td>4</td>\n",
       "      <td>6-4</td>\n",
       "      <td>3-6</td>\n",
       "      <td>6-3</td>\n",
       "      <td>6-3</td>\n",
       "      <td>NaN</td>\n",
       "    </tr>\n",
       "  </tbody>\n",
       "</table>\n",
       "<p>5 rows × 37 columns</p>\n",
       "</div>"
      ],
      "text/plain": [
       "       id                  winner_name winner_hand  winner_ht winner_ioc  \\\n",
       "0  A_2018                 Rafael Nadal           L        185        ESP   \n",
       "1  A_2018                Damir Dzumhur           R        172        BIH   \n",
       "2  A_2018  Diego Sebastian Schwartzman           R        170        ARG   \n",
       "3  A_2018          Alexandr Dolgopolov           R        180        UKR   \n",
       "4  A_2018                Matthew Ebden           R        188        AUS   \n",
       "\n",
       "   winner_rank             loser_name loser_hand  loser_ht loser_ioc   ...     \\\n",
       "0            1        Victor Estrella          R       173       DOM   ...      \n",
       "1           30          Paolo Lorenzi          R       183       ITA   ...      \n",
       "2           26          Dusan Lajovic          R       180       SRB   ...      \n",
       "3           37  Andreas Haider Maurer          R       190       AUT   ...      \n",
       "4           78             John Isner          R       206       USA   ...      \n",
       "\n",
       "   l_1stWon l_2ndWon l_SvGms  l_bpSaved  l_bpFaced  1st_set  2nd_set  3rd_set  \\\n",
       "0        19        5      10          4         12      6-1      6-1      6-1   \n",
       "1        68       41      24          8         13      3-6      2-6   7-6(5)   \n",
       "2        78       24      29         13         24      2-6      6-3      5-7   \n",
       "3        40       17      16          9         16   7-6(3)      6-3      6-4   \n",
       "4        48       20      19          0          4      6-4      3-6      6-3   \n",
       "\n",
       "   4th_set  5th_set  \n",
       "0      NaN      NaN  \n",
       "1      6-2      6-4  \n",
       "2      6-4     11-9  \n",
       "3      NaN      NaN  \n",
       "4      6-3      NaN  \n",
       "\n",
       "[5 rows x 37 columns]"
      ]
     },
     "execution_count": 228,
     "metadata": {},
     "output_type": "execute_result"
    }
   ],
   "source": [
    "match_table.head()"
   ]
  },
  {
   "cell_type": "code",
   "execution_count": null,
   "metadata": {},
   "outputs": [],
   "source": [
    "import pymysql\n",
    "from sqlalchemy import create_engine\n",
    "\n",
    "\n",
    "driver='mysql+pymysql:'\n",
    "user='root'\n",
    "pw='10116'\n",
    "ip='34.65.159.156'\n",
    "db='grandslam'\n",
    "\n",
    "connection_string=f'{driver}//{user}:{pw}@{ip}/{db}'\n",
    "\n",
    "engine=create_engine(connection_string)"
   ]
  },
  {
   "cell_type": "code",
   "execution_count": 227,
   "metadata": {},
   "outputs": [],
   "source": [
    "# Export match table to database\n",
    "match_table.to_sql('matches', engine, if_exists = 'append', index=False)"
   ]
  },
  {
   "cell_type": "code",
   "execution_count": null,
   "metadata": {},
   "outputs": [],
   "source": [
    "# Export tournament table to database\n",
    "tourney_table.to_sql('tournament', engine, if_exists = 'append', index=False)"
   ]
  }
 ],
 "metadata": {
  "kernelspec": {
   "display_name": "Python 3",
   "language": "python",
   "name": "python3"
  },
  "language_info": {
   "codemirror_mode": {
    "name": "ipython",
    "version": 3
   },
   "file_extension": ".py",
   "mimetype": "text/x-python",
   "name": "python",
   "nbconvert_exporter": "python",
   "pygments_lexer": "ipython3",
   "version": "3.7.1"
  }
 },
 "nbformat": 4,
 "nbformat_minor": 2
}
