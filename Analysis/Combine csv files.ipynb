{
 "cells": [
  {
   "cell_type": "markdown",
   "metadata": {},
   "source": [
    "# Combine and filter csv files"
   ]
  },
  {
   "cell_type": "markdown",
   "metadata": {},
   "source": [
    "## Combine csv files of ATP matches from 2008 to 2018\n"
   ]
  },
  {
   "cell_type": "code",
   "execution_count": null,
   "metadata": {},
   "outputs": [],
   "source": [
    "import os\n",
    "import glob\n",
    "import pandas as pd\n",
    "\n",
    "# getting the order of dataframe column heads\n",
    "data=pd.read_csv('/Users/johnngai/Desktop/final_project/ATP_matches_past_10_years_record/atp_matches_2018.csv')\n",
    "column_order=data.columns\n",
    "\n",
    "# switch the working directory\n",
    "os.chdir('/Users/johnngai/Desktop/final_project/ATP_matches_past_10_years_record/')\n",
    "\n",
    "# locate all csv files and store the names in the list all_filenames\n",
    "all_filenames = [i for i in glob.glob('*.csv')]\n",
    "\n",
    "# concatenate all the csv files \n",
    "combined_csv = pd.concat([pd.read_csv(file) for file in all_filenames ])\n",
    "\n",
    "# export the files\n",
    "combined_csv.to_csv( \"atp_matches_record_past_10_years.csv\", index=False, encoding='utf-8-sig', columns=column_order)\n",
    "\n",
    "column_order=pd.read_csv('/Users/johnngai/Desktop/final_project/ATP_matches_past_10_years_record/atp_matches_2018.csv').columns\n"
   ]
  },
  {
   "cell_type": "markdown",
   "metadata": {},
   "source": [
    "## Filter only Grand Slam matches and output to a csv file"
   ]
  },
  {
   "cell_type": "code",
   "execution_count": null,
   "metadata": {},
   "outputs": [],
   "source": [
    "# Filter only the Grand Slam matches and export it to grand_slam_past_10_years.csv\n",
    "data=pd.read_csv('atp_matches_record_past_10_years.csv')\n",
    "grand_slam=data[data['tourney_level']=='G']\n",
    "grand_slam.to_csv('grand_slam_past_10_years.csv',index=False, encoding='utf-8-sig', columns=column_order)"
   ]
  }
 ],
 "metadata": {
  "kernelspec": {
   "display_name": "Python 3",
   "language": "python",
   "name": "python3"
  },
  "language_info": {
   "codemirror_mode": {
    "name": "ipython",
    "version": 3
   },
   "file_extension": ".py",
   "mimetype": "text/x-python",
   "name": "python",
   "nbconvert_exporter": "python",
   "pygments_lexer": "ipython3",
   "version": "3.7.1"
  }
 },
 "nbformat": 4,
 "nbformat_minor": 2
}
